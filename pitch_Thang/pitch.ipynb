{
 "cells": [
  {
   "cell_type": "code",
   "execution_count": 39,
   "metadata": {},
   "outputs": [],
   "source": [
    "import sys\n",
    "import numpy as np\n",
    "from aubio import source, pitch"
   ]
  },
  {
   "cell_type": "code",
   "execution_count": 40,
   "metadata": {},
   "outputs": [
    {
     "name": "stdout",
     "output_type": "stream",
     "text": [
      "Average frequency = 34.419098 hz\n",
      "[35.08054, 34.602005, 33.87887, 35.025883, 33.86275, 34.194145]\n"
     ]
    }
   ],
   "source": [
    "win_s = 4096\n",
    "hop_s = 512\n",
    "\n",
    "samplerate = 44100\n",
    "s = source('./máy phát điện 1.wav', samplerate, hop_s)\n",
    "samplerate = s.samplerate\n",
    "\n",
    "tolerance = 0.8\n",
    "\n",
    "pitch_o = pitch(\"yin\", win_s, hop_s, samplerate)\n",
    "pitch_o.set_unit(\"midi\")\n",
    "pitch_o.set_tolerance(tolerance)\n",
    "\n",
    "pitches = []\n",
    "confidences = []\n",
    "\n",
    "total_frames = 0\n",
    "while True:\n",
    "    samples, read = s()\n",
    "    pitch = pitch_o(samples)[0]\n",
    "    pitches += [pitch]\n",
    "    confidence = pitch_o.get_confidence()\n",
    "    confidences += [confidence]\n",
    "    total_frames += read\n",
    "    if read < hop_s: break\n",
    "\n",
    "result = []\n",
    "\n",
    "step = int(len(pitches)/7)\n",
    "\n",
    "for i in range(0, 6, 1):\n",
    "    max = step*(i+1)\n",
    "    if(i == 6):\n",
    "        max = len(pitches) - 1\n",
    "\n",
    "    pitchLocal = []\n",
    "\n",
    "    for j in range(step*i, max, 1):\n",
    "        pitchLocal.append(pitches[j])\n",
    "\n",
    "    result.append(np.array(pitchLocal).mean())\n",
    "\n",
    "print(\"Average frequency = \" + str(np.array(pitches).mean()) + \" hz\")\n",
    "print(result)"
   ]
  }
 ],
 "metadata": {
  "interpreter": {
   "hash": "7b4b4feff2f24a0f0a34464dbe537a36fda679851528fb8735cb41fa49dffb2d"
  },
  "kernelspec": {
   "display_name": "Python 3.9.7 ('base')",
   "language": "python",
   "name": "python3"
  },
  "language_info": {
   "codemirror_mode": {
    "name": "ipython",
    "version": 3
   },
   "file_extension": ".py",
   "mimetype": "text/x-python",
   "name": "python",
   "nbconvert_exporter": "python",
   "pygments_lexer": "ipython3",
   "version": "3.9.7"
  },
  "orig_nbformat": 4
 },
 "nbformat": 4,
 "nbformat_minor": 2
}
