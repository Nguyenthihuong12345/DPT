{
 "cells": [
  {
   "cell_type": "code",
   "execution_count": 91,
   "metadata": {},
   "outputs": [],
   "source": [
    "import os\n",
    "import matplotlib.pyplot as plt\n",
    "import librosa, librosa.display\n",
    "import IPython.display as ipd\n",
    "import numpy as np"
   ]
  },
  {
   "cell_type": "code",
   "execution_count": 92,
   "metadata": {},
   "outputs": [],
   "source": [
    "audio_dir = \"C:\\\\Users\\\\Minh\\\\Desktop\\\\Audio_Attr\\\\WAV files/sprayer2.wav\"\n",
    "audio, sr = librosa.load(audio_dir, duration = 7)"
   ]
  },
  {
   "cell_type": "code",
   "execution_count": 93,
   "metadata": {},
   "outputs": [
    {
     "name": "stdout",
     "output_type": "stream",
     "text": [
      "154350\n"
     ]
    },
    {
     "data": {
      "text/plain": [
       "(array([0.00000000e+00, 1.42858068e-01, 2.85716137e-01, ...,\n",
       "        2.20497143e+04, 2.20498571e+04, 2.20500000e+04]),\n",
       " array([0.39036866, 0.27135263, 0.15180892, ..., 0.1343992 , 0.15180892,\n",
       "        0.27135263]))"
      ]
     },
     "execution_count": 93,
     "metadata": {},
     "output_type": "execute_result"
    }
   ],
   "source": [
    "X = np.fft.fft(audio)\n",
    "X_mag = np.absolute(X)\n",
    "\n",
    "f = np.linspace(0, sr, len(X_mag))\n",
    "f_bins = int(len(X_mag))  \n",
    "\n",
    "#print(f)\n",
    "print(X_mag.size)\n",
    "#plt.plot(f[:f_bins], X_mag[:f_bins])\n",
    "f[:f_bins], X_mag[:f_bins]\n",
    "\n",
    "#print(f)\n",
    "#print(X_mag)\n",
    "#print(f.size)\n",
    "#print(f_bins)"
   ]
  },
  {
   "cell_type": "code",
   "execution_count": 94,
   "metadata": {},
   "outputs": [
    {
     "name": "stdout",
     "output_type": "stream",
     "text": [
      "32.775026266862746\n",
      "[7009, 41161, 45355, 86851, 108995, 113189, 147341]\n",
      "[32.77502626686275, 41.269705472980164, 34.10496374482349, 25.449058561994548, 34.104963744823486, 41.26970547298015, 32.775026266862746]\n",
      "[0.39036866 0.27135263 0.15180892 ... 0.1343992  0.15180892 0.27135263]\n"
     ]
    }
   ],
   "source": [
    "freq =[] #Freq là mảng ghi tần số có mức độ xuất hiện lớn nhất\n",
    "freq = [0 for i in range(7)]\n",
    "\n",
    "magnitude =[] #Magnitude là cụ thể mức độ xuất hiện là bao nhiêu\n",
    "magnitude = [0 for i in range(7)]\n",
    "\n",
    "position = 0\n",
    "max = 0\n",
    "pos = 0\n",
    "\n",
    "for i in range(0, len(X_mag)):        \n",
    "    if(X_mag[i] > max):\n",
    "        max = X_mag[i]\n",
    "        pos = i\n",
    "    if(i> 0):\n",
    "        if( (i % int(len(X_mag)/7)) == 0 and i != len(X_mag)-1):            \n",
    "            freq[position] = pos\n",
    "            magnitude[position] = max\n",
    "            #print('Position value at checkpoint: ' + str(position))\n",
    "            position += 1\n",
    "            max = 0\n",
    "        if(i == len(X_mag)-1):            \n",
    "            freq[position] = pos\n",
    "            magnitude[position] = max\n",
    "            #print('Position value at checkpoint: ' + str(position))  \n",
    "   "
   ]
  }
 ],
 "metadata": {
  "interpreter": {
   "hash": "68bfff9115d120ac8aa87b21725ec27d15642eb12b81c2f05c6fb74f1ebf5850"
  },
  "kernelspec": {
   "display_name": "Python 3.9.12 ('base')",
   "language": "python",
   "name": "python3"
  },
  "language_info": {
   "codemirror_mode": {
    "name": "ipython",
    "version": 3
   },
   "file_extension": ".py",
   "mimetype": "text/x-python",
   "name": "python",
   "nbconvert_exporter": "python",
   "pygments_lexer": "ipython3",
   "version": "3.9.12"
  },
  "orig_nbformat": 4
 },
 "nbformat": 4,
 "nbformat_minor": 2
}
