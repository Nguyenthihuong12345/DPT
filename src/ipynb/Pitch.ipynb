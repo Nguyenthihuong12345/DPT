{
 "cells": [
  {
   "cell_type": "code",
   "execution_count": 11,
   "metadata": {},
   "outputs": [],
   "source": [
    "import sys\n",
    "import numpy as np\n",
    "from aubio import source, pitch"
   ]
  },
  {
   "cell_type": "code",
   "execution_count": 12,
   "metadata": {},
   "outputs": [
    {
     "name": "stdout",
     "output_type": "stream",
     "text": [
      "604\n",
      "Average frequency = 74.106346 hz\n",
      "7\n",
      "[41.0105, 80.53759, 78.17408, 79.63045, 78.884094, 80.22667, 80.14571]\n"
     ]
    }
   ],
   "source": [
    "\n",
    "win_s = 4096\n",
    "hop_s = 512\n",
    "\n",
    "samplerate = 44100\n",
    "s = source('E:/Learn/tool_instrument_voice_recognition/src/File âm thanh/1 máy sấy tóc/may_say_toc_1.wav', samplerate, hop_s)\n",
    "# s = source(path, samplerate, hop_s) src\\File âm thanh\\1 máy sấy tóc\\may_say_toc_1.wav\n",
    "samplerate = s.samplerate\n",
    "\n",
    "tolerance = 0.8\n",
    "\n",
    "pitch_o = pitch(\"yin\", win_s, hop_s, samplerate)\n",
    "pitch_o.set_unit(\"midi\")\n",
    "pitch_o.set_tolerance(tolerance)\n",
    "\n",
    "pitches = []\n",
    "confidences = []\n",
    "\n",
    "total_frames = 0\n",
    "while True:\n",
    "    samples, read = s()\n",
    "    pitch = pitch_o(samples)[0]\n",
    "    pitches += [pitch]\n",
    "    confidence = pitch_o.get_confidence()\n",
    "    confidences += [confidence]\n",
    "    total_frames += read\n",
    "    if read < hop_s: break\n",
    "\n",
    "result = []\n",
    "\n",
    "print(len(pitches))\n",
    "step = int(len(pitches)/7)\n",
    "\n",
    "for i in range(0, 7, 1):\n",
    "    max = step*(i+1)\n",
    "    if(i == 6):\n",
    "        max = len(pitches) - 1\n",
    "    pitchLocal = []\n",
    "    for j in range(step*i, max, 1):\n",
    "        pitchLocal.append(pitches[j])\n",
    "    result.append(np.array(pitchLocal).mean())\n",
    "\n",
    "print(\"Average frequency = \" + str(np.array(pitches).mean()) + \" hz\")\n",
    "print(len(result))\n",
    "print(result)\n"
   ]
  }
 ],
 "metadata": {
  "interpreter": {
   "hash": "49cb93f377a7abe7414b7b0f21fb3017538004a126cf690fb524202736b7fb92"
  },
  "kernelspec": {
   "display_name": "Python 3.9.7 ('base')",
   "language": "python",
   "name": "python3"
  },
  "language_info": {
   "codemirror_mode": {
    "name": "ipython",
    "version": 3
   },
   "file_extension": ".py",
   "mimetype": "text/x-python",
   "name": "python",
   "nbconvert_exporter": "python",
   "pygments_lexer": "ipython3",
   "version": "3.9.7"
  },
  "orig_nbformat": 4
 },
 "nbformat": 4,
 "nbformat_minor": 2
}
